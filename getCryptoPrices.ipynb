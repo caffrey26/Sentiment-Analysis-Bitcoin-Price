{
 "cells": [
  {
   "cell_type": "code",
   "execution_count": 10,
   "metadata": {},
   "outputs": [
    {
     "name": "stdout",
     "output_type": "stream",
     "text": [
      "The response contains 4 properties\n",
      "\n",
      "\n",
      "Apr 6, 2018 02:51:00 UTC\n",
      "2018-04-06T02:51:00+00:00\n",
      "6777.8838\n",
      "{u'bpi': {u'2018-04-05': 6774.7513}, u'time': {u'updated': u'Apr 6, 2018 00:03:00 UTC', u'updatedISO': u'2018-04-06T00:03:00+00:00'}, u'disclaimer': u'This data was produced from the CoinDesk Bitcoin Price Index. BPI value data returned as USD.'}\n"
     ]
    }
   ],
   "source": [
    "# calls Coindesk API to get the bitcoin price index in USD\n",
    "# Powered by CoinDesk https://www.coindesk.com/price/\n",
    "# code inspired from: https://stackoverflow.com/questions/17301938/making-a-request-to-a-restful-api-using-python\n",
    "\n",
    "import requests\n",
    "import json\n",
    "\n",
    "\n",
    "##live API: streams every minute\n",
    "\n",
    "url = \"https://api.coindesk.com/v1/bpi/currentprice.json\"\n",
    "myResponse = requests.get(url)\n",
    "if(myResponse.ok):\n",
    "    jData = json.loads(myResponse.content)\n",
    "    print(\"The response contains {0} properties\".format(len(jData)))\n",
    "    print(\"\\n\")\n",
    "    print jData[\"time\"][\"updated\"]\n",
    "    print jData[\"time\"][\"updatedISO\"]\n",
    "    print jData[\"bpi\"][\"USD\"][\"rate_float\"]\n",
    "else:\n",
    "  # If response code is not ok (200), print the resulting http error code with description\n",
    "    myResponse.raise_for_status()\n",
    "    \n",
    "##historical price indexes\n",
    "# payload = {'start': '2018-04-01', 'end': '2018-04-04'} #YYYY-MM-DD format\n",
    "payload = {'for': 'yesterday'} \n",
    "url = \"https://api.coindesk.com/v1/bpi/historical/close.json\"\n",
    "myResponse = requests.get(url,params = payload)\n",
    "if(myResponse.ok):\n",
    "    jData = json.loads(myResponse.content)\n",
    "    print jData"
   ]
  },
  {
   "cell_type": "code",
   "execution_count": null,
   "metadata": {
    "collapsed": true
   },
   "outputs": [],
   "source": []
  },
  {
   "cell_type": "code",
   "execution_count": null,
   "metadata": {
    "collapsed": true
   },
   "outputs": [],
   "source": []
  }
 ],
 "metadata": {
  "kernelspec": {
   "display_name": "Python 2",
   "language": "python",
   "name": "python2"
  },
  "language_info": {
   "codemirror_mode": {
    "name": "ipython",
    "version": 2
   },
   "file_extension": ".py",
   "mimetype": "text/x-python",
   "name": "python",
   "nbconvert_exporter": "python",
   "pygments_lexer": "ipython2",
   "version": "2.7.14"
  }
 },
 "nbformat": 4,
 "nbformat_minor": 2
}
